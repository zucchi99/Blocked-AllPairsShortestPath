{
 "cells": [
  {
   "cell_type": "code",
   "execution_count": 1,
   "metadata": {},
   "outputs": [],
   "source": [
    "import re #regex\n",
    "import os #operating system\n",
    "import pandas as pd\n",
    "import numpy as np"
   ]
  },
  {
   "cell_type": "code",
   "execution_count": 2,
   "metadata": {},
   "outputs": [
    {
     "name": "stdout",
     "output_type": "stream",
     "text": [
      "csv/perf_only_algorithm/fwa_dev_v_1_1__n_50__b_10__t_1.csv\n",
      "csv/perf_only_algorithm/fwa_dev_v_1_2__n_50__b_10__t_1.csv\n",
      "csv/perf_only_algorithm/fwa_dev_v_1_3__n_50__b_10__t_1.csv\n",
      "csv/perf_only_algorithm/fwa_dev_v_1_4__n_50__b_10__t_1.csv\n",
      "csv/perf_only_algorithm/fwa_dev_v_2_0__n_50__b_10__t_1.csv\n",
      "csv/perf_only_algorithm/fwa_dev_v_2_2__n_50__b_10__t_1.csv\n"
     ]
    }
   ],
   "source": [
    "directory = 'csv/perf_only_algorithm'\n",
    "files = []\n",
    "for filename in os.listdir(directory):\n",
    "    file_path = os.path.join(directory, filename)\n",
    "    if (re.match(\"^fwa_dev_v_.*\", filename)) :\n",
    "        files.append(file_path)\n",
    "        print(file_path)"
   ]
  },
  {
   "cell_type": "code",
   "execution_count": 3,
   "metadata": {},
   "outputs": [],
   "source": [
    "# for filename in files :\n",
    "#     f = open(filename, \"r\")\n",
    "#     print(f.read())\n",
    "#     f.close()"
   ]
  },
  {
   "cell_type": "code",
   "execution_count": 4,
   "metadata": {},
   "outputs": [],
   "source": [
    "def obtain_parameter(in_string, par_name) :\n",
    "    par_regex = \"-\" + par_name + \"=[^ \\n]*\"\n",
    "    par_string = re.search(par_regex, in_string).group()\n",
    "    par_value = re.sub(\".*=\", \"\", par_string)\n",
    "    return par_value\n",
    "\n",
    "def obtain_version(in_string) :\n",
    "    par_regex = \"v_[^. ]*\"\n",
    "    par_string = re.search(par_regex, in_string).group()\n",
    "    par_value = re.sub(\"v_\", \"\", par_string)\n",
    "    return par_value"
   ]
  },
  {
   "cell_type": "code",
   "execution_count": 5,
   "metadata": {},
   "outputs": [],
   "source": [
    "def obtain_all_parameters(in_file) :\n",
    "    with open(in_file) as fp :\n",
    "        for i, line in enumerate(fp) :\n",
    "            if i == 0 :\n",
    "                n = int(obtain_parameter(line, \"n\"))\n",
    "                b = int(obtain_parameter(line, \"b\"))\n",
    "                t = int(obtain_parameter(line, \"t\"))\n",
    "                version = obtain_version(line)\n",
    "\n",
    "            elif i == 3 :\n",
    "                headers = line.replace('\"', '').replace(\"\\n\", \"\").split(\",\")\n",
    "\n",
    "            elif i == 4 :\n",
    "                temp = line.replace(\"\\n\", \"\").replace(\"%\", \"\").split(\",\")\n",
    "                unit_measures = []\n",
    "                for unit in temp :\n",
    "                    if unit != \"\" :\n",
    "                        unit = \"(\" + unit + \")\"\n",
    "                    unit_measures.append(unit)\n",
    "\n",
    "            elif i > 4 :\n",
    "                break\n",
    "\n",
    "    headers = list(map(lambda x, y: x + y, headers, unit_measures))\n",
    "\n",
    "    return n, b, t, version, headers"
   ]
  },
  {
   "cell_type": "code",
   "execution_count": 6,
   "metadata": {},
   "outputs": [
    {
     "data": {
      "text/html": [
       "<div>\n",
       "<style scoped>\n",
       "    .dataframe tbody tr th:only-of-type {\n",
       "        vertical-align: middle;\n",
       "    }\n",
       "\n",
       "    .dataframe tbody tr th {\n",
       "        vertical-align: top;\n",
       "    }\n",
       "\n",
       "    .dataframe thead th {\n",
       "        text-align: right;\n",
       "    }\n",
       "</style>\n",
       "<table border=\"1\" class=\"dataframe\">\n",
       "  <thead>\n",
       "    <tr style=\"text-align: right;\">\n",
       "      <th></th>\n",
       "      <th>version</th>\n",
       "      <th>n</th>\n",
       "      <th>b</th>\n",
       "      <th>t</th>\n",
       "      <th>Time(us)</th>\n",
       "    </tr>\n",
       "  </thead>\n",
       "  <tbody>\n",
       "    <tr>\n",
       "      <th>1</th>\n",
       "      <td>2_0</td>\n",
       "      <td>50</td>\n",
       "      <td>10</td>\n",
       "      <td>1</td>\n",
       "      <td>2149.167</td>\n",
       "    </tr>\n",
       "    <tr>\n",
       "      <th>0</th>\n",
       "      <td>2_2</td>\n",
       "      <td>50</td>\n",
       "      <td>10</td>\n",
       "      <td>1</td>\n",
       "      <td>2281.017</td>\n",
       "    </tr>\n",
       "    <tr>\n",
       "      <th>3</th>\n",
       "      <td>1_3</td>\n",
       "      <td>50</td>\n",
       "      <td>10</td>\n",
       "      <td>1</td>\n",
       "      <td>2324.565</td>\n",
       "    </tr>\n",
       "    <tr>\n",
       "      <th>4</th>\n",
       "      <td>1_2</td>\n",
       "      <td>50</td>\n",
       "      <td>10</td>\n",
       "      <td>1</td>\n",
       "      <td>2390.845</td>\n",
       "    </tr>\n",
       "    <tr>\n",
       "      <th>2</th>\n",
       "      <td>1_4</td>\n",
       "      <td>50</td>\n",
       "      <td>10</td>\n",
       "      <td>1</td>\n",
       "      <td>3175.155</td>\n",
       "    </tr>\n",
       "    <tr>\n",
       "      <th>5</th>\n",
       "      <td>1_1</td>\n",
       "      <td>50</td>\n",
       "      <td>10</td>\n",
       "      <td>1</td>\n",
       "      <td>3731.109</td>\n",
       "    </tr>\n",
       "  </tbody>\n",
       "</table>\n",
       "</div>"
      ],
      "text/plain": [
       "  version   n   b  t  Time(us)\n",
       "1     2_0  50  10  1  2149.167\n",
       "0     2_2  50  10  1  2281.017\n",
       "3     1_3  50  10  1  2324.565\n",
       "4     1_2  50  10  1  2390.845\n",
       "2     1_4  50  10  1  3175.155\n",
       "5     1_1  50  10  1  3731.109"
      ]
     },
     "execution_count": 6,
     "metadata": {},
     "output_type": "execute_result"
    }
   ],
   "source": [
    "df_big = pd.DataFrame()     # collects all data\n",
    "df_small = pd.DataFrame()   # sums up everything\n",
    "for filename in files : \n",
    "    n, b, t, version, headers = obtain_all_parameters(filename)\n",
    "    temp_df_big = pd.read_csv(filename, skiprows=5, names=headers)\n",
    "    temp_df_big['version'] = version\n",
    "    temp_df_big['n'] = n\n",
    "    temp_df_big['b'] = b\n",
    "    temp_df_big['t'] = t\n",
    "    if df_small.empty :\n",
    "        df_big = pd.DataFrame(columns = headers)\n",
    "        df_small = pd.DataFrame(columns = ['version', 'n', 'b', 't', 'Time(us)'])\n",
    "    df_big = pd.concat([df_big, temp_df_big])\n",
    "    tot_time = temp_df_big['Time(us)'].sum()\n",
    "    #print(f\"version = {version}, n = {n}, b = {b}, t = {t}, tot_time = {tot_time:.2f}\")\n",
    "    df_small.loc[-1] = [version, n, b, t, tot_time]  # adding a row\n",
    "    df_small.index = df_small.index + 1  # shifting index\n",
    "    df_small = df_small.sort_index()  # sorting by index\n",
    "df_small.sort_values(by = ['n', 'b', 't', 'Time(us)'])\n"
   ]
  },
  {
   "cell_type": "code",
   "execution_count": 7,
   "metadata": {},
   "outputs": [
    {
     "name": "stdout",
     "output_type": "stream",
     "text": [
      "No NaN values found\n"
     ]
    }
   ],
   "source": [
    "na_columns = df_big.columns[df_big.isna().any()].tolist()\n",
    "if na_columns == [] :\n",
    "    print(\"No NaN values found\")\n",
    "else :\n",
    "    print(\"Columns with NaN:\")\n",
    "    print(na_columns)"
   ]
  }
 ],
 "metadata": {
  "kernelspec": {
   "display_name": "Python 3.8.10 64-bit",
   "language": "python",
   "name": "python3"
  },
  "language_info": {
   "codemirror_mode": {
    "name": "ipython",
    "version": 3
   },
   "file_extension": ".py",
   "mimetype": "text/x-python",
   "name": "python",
   "nbconvert_exporter": "python",
   "pygments_lexer": "ipython3",
   "version": "3.8.10"
  },
  "orig_nbformat": 4,
  "vscode": {
   "interpreter": {
    "hash": "916dbcbb3f70747c44a77c7bcd40155683ae19c65e1c03b4aa3499c5328201f1"
   }
  }
 },
 "nbformat": 4,
 "nbformat_minor": 2
}
