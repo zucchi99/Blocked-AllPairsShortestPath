{
  "cells": [
    {
      "cell_type": "markdown",
      "metadata": {
        "id": "Il3sIv6kWteW"
      },
      "source": [
        "# Codice per la generazione di grafi casuali\n",
        "## Strumento di supporto per il prog. di Programmazione su Arch. Parallele\n",
        "\n",
        "*Lena Emanuele, Zuccato Francesco*"
      ]
    },
    {
      "cell_type": "code",
      "execution_count": null,
      "metadata": {
        "id": "XS1VdAvzWpqe"
      },
      "outputs": [],
      "source": [
        "import networkx as nx\n",
        "import numpy as np\n",
        "import pandas as pd"
      ]
    },
    {
      "cell_type": "markdown",
      "metadata": {
        "id": "2Ayvs1GuYbmK"
      },
      "source": [
        "## Creazione grafi casuali\n",
        "Generazione di grafi casuali con specifiche caratteristiche"
      ]
    },
    {
      "cell_type": "code",
      "execution_count": null,
      "metadata": {
        "id": "A-9WFMQfYpUh"
      },
      "outputs": [],
      "source": [
        "n = 1000     # numero di nodi\n",
        "seed = 1234   # seed per replicare i risultati"
      ]
    },
    {
      "cell_type": "code",
      "execution_count": null,
      "metadata": {
        "id": "WMdh9pVGXDxH"
      },
      "outputs": [],
      "source": [
        "# Grafo casuale semplice\n",
        "\n",
        "p = 0.1 # probabilità per ogni coppia di nodi di creare un arco\n",
        "g = nx.erdos_renyi_graph(n, p, seed=seed, directed=False)"
      ]
    },
    {
      "cell_type": "code",
      "execution_count": null,
      "metadata": {
        "id": "fA4ErQTUYxYt"
      },
      "outputs": [],
      "source": [
        "# Grafo piccolo-mondo (sostanzialmente, un grafo casuale dove \n",
        "# la distanza media tra due nodi è bassa). Si genera:\n",
        "#   - connettendo in modo \"geometrico\" ogni nodo a quelli che sarebbero i\n",
        "#     k nodi più vicini in una rete ad anello\n",
        "#   - per ogni arco, con una prob. p viene scollegato e ri-collegato\n",
        "#     ad un nodo casuale\n",
        "# \n",
        "# Ciò che ne esce è un grafo semi-regolare ma con anche connessioni casuali\n",
        "\n",
        "k=5\n",
        "p=0.1\n",
        "g = nx.connected_watts_strogatz_graph(n, k, p, seed=seed)\n",
        "\n",
        "# (Varianti)\n",
        "# g = nx.watts_strogatz_graph(n, k, p, seed=seed) # non garantisce sia connesso\n",
        "# g = nx.newman_watts_strogatz_graph(n, k, p, seed=seed) # per generare il collegamento random non sostituisce il precedente"
      ]
    },
    {
      "cell_type": "code",
      "execution_count": null,
      "metadata": {
        "id": "Sr8n7Aucccgg"
      },
      "outputs": [],
      "source": [
        "# Grafo con distribuzione dei gradi in power law:\n",
        "# sostanzialmente, un grafo dove ci saranno pochi nodi con grado molto alto \n",
        "# (quindi pochi nodi con molte connessioni, e tante con poche connessioni)\n",
        "\n",
        "# [...] (è complicato da spiegare... https://networkx.org/documentation/stable/reference/generated/networkx.generators.random_graphs.barabasi_albert_graph.html)\n",
        "m = 25  \n",
        "g = nx.barabasi_albert_graph(n, m, seed=seed)"
      ]
    },
    {
      "cell_type": "code",
      "execution_count": null,
      "metadata": {
        "id": "JTwXb9tliBzc"
      },
      "outputs": [],
      "source": [
        "g = nx.Graph()\n",
        "\n"
      ]
    },
    {
      "cell_type": "markdown",
      "metadata": {
        "id": "oXhH83dRnjhj"
      },
      "source": [
        "### Generazione di pesi casuali\n",
        "I grafi generati in questo modo NON sono pesati! Gli assegnamo quindi dei pesi casuali\n",
        "\n"
      ]
    },
    {
      "cell_type": "code",
      "execution_count": null,
      "metadata": {
        "id": "5cywdAVVkX3D"
      },
      "outputs": [],
      "source": [
        "def attachRandomWeight(g: nx.Graph, minWeight: int, maxWeight: int, seed: int) -> nx.Graph:\n",
        "  \"\"\"\n",
        "    funzione che dato un grafo e un intervallo di valori, assegna\n",
        "    (pseudo) casualmente dei pesi a ciascun arco. \n",
        "\n",
        "    Si ritorna un nuovo grafo con i pesi.\n",
        "  \"\"\"\n",
        "\n",
        "  gg = g.copy()\n",
        "\n",
        "  np.random.seed(seed)\n",
        "  weights = np.random.randint(1, 10, len(gg.edges))\n",
        "\n",
        "  i = 0\n",
        "  for (u,v) in gg.edges():\n",
        "    gg.edges[u,v]['weight'] = weights[i]\n",
        "    i += 1\n",
        "\n",
        "  return gg"
      ]
    },
    {
      "cell_type": "code",
      "execution_count": null,
      "metadata": {
        "id": "EkJJCZ2SxCBq"
      },
      "outputs": [],
      "source": [
        "g = attachRandomWeight(g, 1, 5, seed)"
      ]
    },
    {
      "cell_type": "markdown",
      "metadata": {
        "id": "KULCNKrqv_1U"
      },
      "source": [
        "### Controllo connessione\n",
        "Controlliamo che il grafo sia connesso"
      ]
    },
    {
      "cell_type": "code",
      "execution_count": null,
      "metadata": {
        "colab": {
          "base_uri": "https://localhost:8080/"
        },
        "id": "sdiIopFFv-o9",
        "outputId": "18e9489c-f343-435c-bec8-c912189c7167"
      },
      "outputs": [
        {
          "data": {
            "text/plain": [
              "True"
            ]
          },
          "execution_count": 27,
          "metadata": {},
          "output_type": "execute_result"
        }
      ],
      "source": [
        "nx.is_connected(g)"
      ]
    },
    {
      "cell_type": "markdown",
      "metadata": {
        "id": "kdYQ3ZuIdvv2"
      },
      "source": [
        "## Esportazione"
      ]
    },
    {
      "cell_type": "markdown",
      "metadata": {
        "id": "aOuIO-EuweW9"
      },
      "source": [
        "### Estrazione della matrice di adiacenza"
      ]
    },
    {
      "cell_type": "code",
      "execution_count": null,
      "metadata": {
        "id": "T0N8wPkgdviO"
      },
      "outputs": [],
      "source": [
        "def getAdjMatrix(g: nx.Graph, noEdgeValue: int = -1) -> np.matrix:\n",
        "  \"\"\"\n",
        "  Genera la matrice di adiacenza da un grafo, \n",
        "  riempiendo come da indicazione i valori nulli\n",
        "  \"\"\"\n",
        "\n",
        "  # esportazione matrice in forma densa\n",
        "  adj_matrix = nx.adjacency_matrix(g).todense()\n",
        "\n",
        "  # inserimento del valore noEdgeValue dove non ci sono archi\n",
        "  for i in range(adj_matrix.shape[0]):\n",
        "    for j in range(adj_matrix.shape[1]):\n",
        "      if adj_matrix[i, j] == 0 and i!=j and not g.has_edge(i, j):\n",
        "        adj_matrix[i, j] = noEdgeValue\n",
        "\n",
        "  return adj_matrix\n"
      ]
    },
    {
      "cell_type": "code",
      "execution_count": null,
      "metadata": {
        "id": "44AfGJuLoL0-"
      },
      "outputs": [],
      "source": [
        "MAX_INT = 2147483647\n",
        "adj_matrix = getAdjMatrix(g, noEdgeValue = MAX_INT)"
      ]
    },
    {
      "cell_type": "code",
      "execution_count": null,
      "metadata": {
        "colab": {
          "base_uri": "https://localhost:8080/"
        },
        "id": "OUFTV_vtvMZT",
        "outputId": "c6be6eb1-d358-4d45-ee9e-cddea53e63e1"
      },
      "outputs": [
        {
          "data": {
            "text/plain": [
              "matrix([[         0, 2147483647, 2147483647, ..., 2147483647,          1,\n",
              "         2147483647],\n",
              "        [2147483647,          0, 2147483647, ..., 2147483647, 2147483647,\n",
              "                  9],\n",
              "        [2147483647, 2147483647,          0, ..., 2147483647,          2,\n",
              "         2147483647],\n",
              "        ...,\n",
              "        [2147483647, 2147483647, 2147483647, ...,          0, 2147483647,\n",
              "                  3],\n",
              "        [         1, 2147483647,          2, ..., 2147483647,          0,\n",
              "         2147483647],\n",
              "        [2147483647,          9, 2147483647, ...,          3, 2147483647,\n",
              "                  0]], dtype=int64)"
            ]
          },
          "execution_count": 30,
          "metadata": {},
          "output_type": "execute_result"
        }
      ],
      "source": [
        "adj_matrix"
      ]
    },
    {
      "cell_type": "markdown",
      "metadata": {
        "id": "WhSkjzf4wjdg"
      },
      "source": [
        "### Download in formato CSV"
      ]
    },
    {
      "cell_type": "code",
      "execution_count": null,
      "metadata": {
        "id": "oTvIOajZgrGk"
      },
      "outputs": [],
      "source": [
        "def downloadAdjMatrixAsCsv(adjMatrix: np.matrix, filename:str=\"graph_adj_matrix.csv\", colabDownload=False) -> None:\n",
        "  \"\"\"\n",
        "    scarica una matrice di adiacenza come CSV. \n",
        "\n",
        "    Si omettono sia i nomi delle righe che delle colonne.\n",
        "  \"\"\"\n",
        "\n",
        "  df = pd.DataFrame(data=adjMatrix.astype(int))\n",
        "  df.to_csv(filename, sep=' ', header=False, index=False)\n",
        "\n",
        "  if colabDownload:\n",
        "\n",
        "    from google.colab import files\n",
        "    files.download(filename) \n",
        "\n"
      ]
    },
    {
      "cell_type": "code",
      "execution_count": null,
      "metadata": {
        "colab": {
          "base_uri": "https://localhost:8080/",
          "height": 17
        },
        "id": "ll8WNkGSwwx4",
        "outputId": "eb368251-fea8-4573-fd83-0d176713f4d9"
      },
      "outputs": [
        {
          "data": {
            "application/javascript": "\n    async function download(id, filename, size) {\n      if (!google.colab.kernel.accessAllowed) {\n        return;\n      }\n      const div = document.createElement('div');\n      const label = document.createElement('label');\n      label.textContent = `Downloading \"${filename}\": `;\n      div.appendChild(label);\n      const progress = document.createElement('progress');\n      progress.max = size;\n      div.appendChild(progress);\n      document.body.appendChild(div);\n\n      const buffers = [];\n      let downloaded = 0;\n\n      const channel = await google.colab.kernel.comms.open(id);\n      // Send a message to notify the kernel that we're ready.\n      channel.send({})\n\n      for await (const message of channel.messages) {\n        // Send a message to notify the kernel that we're ready.\n        channel.send({})\n        if (message.buffers) {\n          for (const buffer of message.buffers) {\n            buffers.push(buffer);\n            downloaded += buffer.byteLength;\n            progress.value = downloaded;\n          }\n        }\n      }\n      const blob = new Blob(buffers, {type: 'application/binary'});\n      const a = document.createElement('a');\n      a.href = window.URL.createObjectURL(blob);\n      a.download = filename;\n      div.appendChild(a);\n      a.click();\n      div.remove();\n    }\n  ",
            "text/plain": [
              "<IPython.core.display.Javascript object>"
            ]
          },
          "metadata": {},
          "output_type": "display_data"
        },
        {
          "data": {
            "application/javascript": "download(\"download_90413fa5-d6d3-402e-b2d5-690573e543b2\", \"graph_adj_matrix.csv\", 10091000)",
            "text/plain": [
              "<IPython.core.display.Javascript object>"
            ]
          },
          "metadata": {},
          "output_type": "display_data"
        }
      ],
      "source": [
        "downloadAdjMatrixAsCsv(adj_matrix)"
      ]
    }
  ],
  "metadata": {
    "colab": {
      "collapsed_sections": [],
      "name": "GraphsGenerator-PAP.ipynb",
      "provenance": []
    },
    "kernelspec": {
      "display_name": "Python 3",
      "name": "python3"
    },
    "language_info": {
      "name": "python"
    }
  },
  "nbformat": 4,
  "nbformat_minor": 0
}
